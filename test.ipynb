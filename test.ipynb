{
 "cells": [
  {
   "cell_type": "code",
   "execution_count": 4,
   "metadata": {},
   "outputs": [
    {
     "name": "stdout",
     "output_type": "stream",
     "text": [
      "Collecting openpyxl\n",
      "  Downloading openpyxl-3.1.5-py2.py3-none-any.whl.metadata (2.5 kB)\n",
      "Collecting et-xmlfile (from openpyxl)\n",
      "  Downloading et_xmlfile-2.0.0-py3-none-any.whl.metadata (2.7 kB)\n",
      "Downloading openpyxl-3.1.5-py2.py3-none-any.whl (250 kB)\n",
      "Downloading et_xmlfile-2.0.0-py3-none-any.whl (18 kB)\n",
      "Installing collected packages: et-xmlfile, openpyxl\n",
      "Successfully installed et-xmlfile-2.0.0 openpyxl-3.1.5\n",
      "Note: you may need to restart the kernel to use updated packages.\n"
     ]
    }
   ],
   "source": [
    "pip install openpyxl\n"
   ]
  },
  {
   "cell_type": "code",
   "execution_count": 6,
   "metadata": {},
   "outputs": [
    {
     "name": "stdout",
     "output_type": "stream",
     "text": [
      "{'Página1':   Unnamed: 0 Unnamed: 1 Unnamed: 2\n",
      "0   testanda       bot   doxologia\n",
      "1          1          2          3, 'Página2': Empty DataFrame\n",
      "Columns: [aaa, aaa.1]\n",
      "Index: []}\n"
     ]
    }
   ],
   "source": [
    "import pandas as pd\n",
    "\n",
    "# url = 'https://docs.google.com/spreadsheets/d/1kPwmEZc7dP589Vc962i1VMXiNiGbsbPpcRo3l3uK338/export?format=csv'\n",
    "# https://docs.google.com/spreadsheets/d/1kPwmEZc7dP589Vc962i1VMXiNiGbsbPpcRo3l3uK338/edit?usp=sharing\n",
    "# df = pd.read_csv(url)\n",
    "# print(df.head())\n",
    "\n",
    "class googleSheetsSDK:\n",
    "    def __init__(self):\n",
    "        self.sheet_url = \"https://docs.google.com/spreadsheets/d/1kPwmEZc7dP589Vc962i1VMXiNiGbsbPpcRo3l3uK338/export?format=xlsx\"\n",
    "        \n",
    "    def read_sheet(self):\n",
    "        df = pd.read_excel(self.sheet_url, sheet_name=None)\n",
    "        print(df)\n",
    "    \n",
    "sheet = googleSheetsSDK()\n",
    "sheet.read_sheet()"
   ]
  }
 ],
 "metadata": {
  "kernelspec": {
   "display_name": ".venv",
   "language": "python",
   "name": "python3"
  },
  "language_info": {
   "codemirror_mode": {
    "name": "ipython",
    "version": 3
   },
   "file_extension": ".py",
   "mimetype": "text/x-python",
   "name": "python",
   "nbconvert_exporter": "python",
   "pygments_lexer": "ipython3",
   "version": "3.10.11"
  }
 },
 "nbformat": 4,
 "nbformat_minor": 2
}
